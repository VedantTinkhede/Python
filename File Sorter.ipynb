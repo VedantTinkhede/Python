{
 "cells": [
  {
   "cell_type": "code",
   "execution_count": 111,
   "id": "4234ebfa-1940-4d6e-b38d-654b489d057e",
   "metadata": {},
   "outputs": [],
   "source": [
    "import os, shutil   "
   ]
  },
  {
   "cell_type": "code",
   "execution_count": 112,
   "id": "24f524a4-78fe-4f3d-8800-43b52e792096",
   "metadata": {},
   "outputs": [],
   "source": [
    "path = r\"C:/Users/ACER\\Desktop/File sorter files/\"     # changed back-slash to front-slash"
   ]
  },
  {
   "cell_type": "code",
   "execution_count": 113,
   "id": "7d2459f5-3e7f-4c71-a8e7-6f291cf5b228",
   "metadata": {},
   "outputs": [
    {
     "name": "stdout",
     "output_type": "stream",
     "text": [
      "['csv files', 'images', 'text files']\n"
     ]
    }
   ],
   "source": [
    "file_name = os.listdir(path)        # will show the contents of the path including the folders\n",
    "print(file_name)"
   ]
  },
  {
   "cell_type": "code",
   "execution_count": 114,
   "id": "d00ecb6e-2949-42a8-8f1a-f8e0a0cdcc84",
   "metadata": {},
   "outputs": [],
   "source": [
    "folders = ['csv files','text files','images']\n",
    "for i in range (0,3):\n",
    "    if not (os.path.exists(path + folders[i])) :      # will show if a folder named 'csv files' already exists in the path\n",
    "        os.makedirs(path + folders[i])                # will create the folder in the path"
   ]
  },
  {
   "cell_type": "code",
   "execution_count": 122,
   "id": "08567f46-1be0-4818-ba8d-4d26ef48e479",
   "metadata": {},
   "outputs": [],
   "source": [
    "for file in file_name:\n",
    "    if \".csv\" in file and not os.path.exists(path + \"csv files/\" + file):\n",
    "        shutil.move(path +  file,path + \"csv files/\" + file)\n",
    "        continue\n",
    "    elif \".txt\" in file and not os.path.exists(path + \"text files/\" + file):\n",
    "        shutil.move(path +  file,path + \"text files/\" + file)\n",
    "        continue\n",
    "    elif ((\".jpg\" in file and \".png\" not in file) or (\".png\" in file and \".jpg\" not in file)) and not os.path.exists(path + \"images/\" + file):\n",
    "        shutil.move(path +  file,path + \"images/\" + file)\n",
    "        continue\n",
    "    else:\n",
    "        if not(file == 'csv files' or file == 'images' or file == 'text files'):      # will not print for the folders we created\n",
    "            print(\"File already in folder or file-type not supported\")      # this line will be printed 3 times as the file-type folders exists \n",
    "                                                                        # and they do not contain '.csv','.txt','.jpg' or '.png' in their names"
   ]
  },
  {
   "cell_type": "code",
   "execution_count": null,
   "id": "34a22a38-fcd9-4db2-8200-3ec4dfbf0a6e",
   "metadata": {},
   "outputs": [],
   "source": []
  }
 ],
 "metadata": {
  "kernelspec": {
   "display_name": "Python 3 (ipykernel)",
   "language": "python",
   "name": "python3"
  },
  "language_info": {
   "codemirror_mode": {
    "name": "ipython",
    "version": 3
   },
   "file_extension": ".py",
   "mimetype": "text/x-python",
   "name": "python",
   "nbconvert_exporter": "python",
   "pygments_lexer": "ipython3",
   "version": "3.11.7"
  }
 },
 "nbformat": 4,
 "nbformat_minor": 5
}
